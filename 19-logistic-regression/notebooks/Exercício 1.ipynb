{
 "cells": [
  {
   "cell_type": "markdown",
   "metadata": {},
   "source": [
    "# Resumo do Desafio - KDD Cup 2009: Customer relationship prediction\n",
    "Customer Relationship Management (CRM) is a key element of modern marketing strategies. The KDD Cup 2009 offers the opportunity to work on large marketing databases from the French Telecom company Orange to predict the propensity of customers to switch provider (churn), buy new products or services (appetency), or buy upgrades or add-ons proposed to them to make the sale more profitable (up-selling).\n",
    "\n",
    "The most practical way, in a CRM system, to build knowledge on customer is to produce scores. A score (the output of a model) is an evaluation for all instances of a target variable to explain (i.e. churn, appetency or up-selling). Tools which produce scores allow to project, on a given population, quantifiable information. The score is computed using input variables which describe instances. Scores are then used by the information system (IS), for example, to personalize the customer relationship. An industrial customer analysis platform able to build prediction models with a very large number of input variables has been developed by Orange Labs. This platform implements several processing methods for instances and variables selection, prediction and indexation based on an efficient model combined with variable selection regularization and model averaging method. The main characteristic of this platform is its ability to scale on very large datasets with hundreds of thousands of instances and thousands of variables. The rapid and robust detection of the variables that have most contributed to the output prediction can be a key factor in a marketing application.\n",
    "\n",
    "The challenge is to beat the in-house system developed by Orange Labs. It is an opportunity to prove that you can deal with a very large database, including heterogeneous noisy data (numerical and categorical variables), and unbalanced class distributions. Time efficiency is often a crucial point. Therefore part of the competition will be time-constrained to test the ability of the participants to deliver solutions quickly.\n",
    "\n",
    "Link: https://www.kdd.org/kdd-cup/view/kdd-cup-2009/Intro"
   ]
  },
  {
   "cell_type": "markdown",
   "metadata": {},
   "source": [
    "# Índice\n",
    "- [Carregando as libs e os arquivos](#Carregando-as-libs-e-os-arquivos)\n",
    "- [EDA](#EDA)\n",
    "    - [Trazendo as labels para o dataset principal](#Trazendo-as-labels-para-o-dataset-principal)\n",
    "    - [Gráficos com as features numéricas](#Gráficos-com-as-features-numéricas)\n",
    "    - [Preenchendo os missing values](#Preenchendo-os-missing-values)\n",
    "    - [Transformando as features categóricas em dummies](#Transformando-as-features-categóricas-em-dummies)\n",
    "- [Gerando os datasets para criação dos modelos](#Gerando-os-datasets-para-criação-dos-modelos)\n",
    "    - [Modelo de Churn](#Modelo-de-Churn)\n",
    "- [Conclusão](#Conclusão)"
   ]
  },
  {
   "cell_type": "markdown",
   "metadata": {
    "ExecuteTime": {
     "end_time": "2019-01-26T12:44:34.302734Z",
     "start_time": "2019-01-26T12:44:34.298736Z"
    }
   },
   "source": [
    "# Carregando as libs e os arquivos"
   ]
  },
  {
   "cell_type": "code",
   "execution_count": null,
   "metadata": {
    "ExecuteTime": {
     "end_time": "2019-01-28T00:48:55.739893Z",
     "start_time": "2019-01-28T00:48:36.708312Z"
    }
   },
   "outputs": [],
   "source": [
    "#-- carregando as bibliotecas\n",
    "import zipfile\n",
    "import os\n",
    "import pandas as pd\n",
    "import numpy as np\n",
    "import matplotlib.pyplot as plt\n",
    "import seaborn as sns\n",
    "\n",
    "from sklearn.preprocessing import StandardScaler\n",
    "from sklearn.impute import SimpleImputer\n",
    "from sklearn.model_selection import train_test_split\n",
    "from sklearn.linear_model import LogisticRegression\n",
    "from sklearn.metrics import (accuracy_score, roc_auc_score, roc_curve, confusion_matrix, classification_report, plot_confusion_matrix)\n",
    "from imblearn.over_sampling import SMOTE"
   ]
  },
  {
   "cell_type": "code",
   "execution_count": null,
   "metadata": {
    "ExecuteTime": {
     "end_time": "2019-01-28T00:48:55.792105Z",
     "start_time": "2019-01-28T00:48:55.784108Z"
    }
   },
   "outputs": [],
   "source": [
    "#-- listando arquivos na pasta do Office Track\n",
    "arr = os.listdir('../data')\n",
    "arr"
   ]
  },
  {
   "cell_type": "code",
   "execution_count": null,
   "metadata": {
    "ExecuteTime": {
     "end_time": "2019-01-28T00:48:55.899041Z",
     "start_time": "2019-01-28T00:48:55.844075Z"
    }
   },
   "outputs": [],
   "source": [
    "#-- extraindo os arquivos do zip\n",
    "extension = \".zip\"\n",
    "os.chdir('../data')\n",
    "\n",
    "for item in os.listdir('../data'):\n",
    "    if item.endswith(extension):\n",
    "        file_name = os.path.abspath(item)\n",
    "        zip_ref = zipfile.ZipFile(file_name)\n",
    "        zip_ref.extractall('../data')\n",
    "        zip_ref.close()\n",
    "        os.remove(file_name)"
   ]
  },
  {
   "cell_type": "code",
   "execution_count": null,
   "metadata": {
    "ExecuteTime": {
     "end_time": "2019-01-28T00:48:55.999984Z",
     "start_time": "2019-01-28T00:48:55.949014Z"
    }
   },
   "outputs": [],
   "source": [
    "#-- listando arquivos na pasta do Office Track\n",
    "arr = os.listdir('../data')\n",
    "arr"
   ]
  },
  {
   "cell_type": "code",
   "execution_count": null,
   "metadata": {
    "ExecuteTime": {
     "end_time": "2019-01-28T00:48:57.409856Z",
     "start_time": "2019-01-28T00:48:56.042962Z"
    }
   },
   "outputs": [],
   "source": [
    "#-- carregando os dados de treino\n",
    "db = pd.read_csv('orange_small_train.data', sep='\\t')"
   ]
  },
  {
   "cell_type": "code",
   "execution_count": null,
   "metadata": {
    "ExecuteTime": {
     "end_time": "2019-01-28T00:48:57.801170Z",
     "start_time": "2019-01-28T00:48:57.714518Z"
    }
   },
   "outputs": [],
   "source": [
    "#-- printando o head do dataset de treino\n",
    "db.head()"
   ]
  },
  {
   "cell_type": "code",
   "execution_count": null,
   "metadata": {
    "ExecuteTime": {
     "end_time": "2019-01-28T00:48:58.172154Z",
     "start_time": "2019-01-28T00:48:58.165156Z"
    }
   },
   "outputs": [],
   "source": [
    "#-- printando as dimensões do dateset para verificar sua integridade\n",
    "db.shape"
   ]
  },
  {
   "cell_type": "markdown",
   "metadata": {
    "ExecuteTime": {
     "end_time": "2019-01-26T12:45:08.640318Z",
     "start_time": "2019-01-26T12:45:08.635339Z"
    }
   },
   "source": [
    "# EDA"
   ]
  },
  {
   "cell_type": "code",
   "execution_count": null,
   "metadata": {
    "ExecuteTime": {
     "end_time": "2019-01-28T00:48:59.011240Z",
     "start_time": "2019-01-28T00:48:58.573560Z"
    }
   },
   "outputs": [],
   "source": [
    "#-- verificando as features com mais missing values\n"
   ]
  },
  {
   "cell_type": "markdown",
   "metadata": {},
   "source": [
    "> Existem algumas features com missing values acima de 90%, por isso irei printar a quantidade de colunas com missing values variando sua a porcentagem "
   ]
  },
  {
   "cell_type": "code",
   "execution_count": null,
   "metadata": {
    "ExecuteTime": {
     "end_time": "2019-01-28T00:49:13.067110Z",
     "start_time": "2019-01-28T00:49:05.881458Z"
    }
   },
   "outputs": [],
   "source": [
    "#-- printando a quantidade de colunas com missing values variando sua a porcentagem\n"
   ]
  },
  {
   "cell_type": "markdown",
   "metadata": {},
   "source": [
    "> Irei assumir missing values até 15% como aceitável. As colunas que restarem com missing values irei tratá-las posteriormente."
   ]
  },
  {
   "cell_type": "code",
   "execution_count": null,
   "metadata": {
    "ExecuteTime": {
     "end_time": "2019-01-28T00:49:13.819847Z",
     "start_time": "2019-01-28T00:49:13.417908Z"
    }
   },
   "outputs": [],
   "source": [
    "#-- copiando o nome das colunas que serão mantidas. Essas colunas tem até 15% de missing value\n"
   ]
  },
  {
   "cell_type": "code",
   "execution_count": null,
   "metadata": {
    "ExecuteTime": {
     "end_time": "2019-01-28T00:49:14.174540Z",
     "start_time": "2019-01-28T00:49:14.136560Z"
    }
   },
   "outputs": [],
   "source": [
    "#-- filtrando o dataset original com as colunas que contém até 15% de missing value\n"
   ]
  },
  {
   "cell_type": "code",
   "execution_count": null,
   "metadata": {
    "ExecuteTime": {
     "end_time": "2019-01-28T00:49:14.839647Z",
     "start_time": "2019-01-28T00:49:14.833653Z"
    }
   },
   "outputs": [],
   "source": [
    "#-- verificando a quantidade de colunas removidas, nenhuma linha deve ser removida\n"
   ]
  },
  {
   "cell_type": "code",
   "execution_count": null,
   "metadata": {
    "ExecuteTime": {
     "end_time": "2019-01-28T00:49:15.496636Z",
     "start_time": "2019-01-28T00:49:15.466141Z"
    }
   },
   "outputs": [],
   "source": [
    "#-- printando o head do novo dataset\n"
   ]
  },
  {
   "cell_type": "code",
   "execution_count": null,
   "metadata": {
    "ExecuteTime": {
     "end_time": "2019-01-28T00:49:16.324438Z",
     "start_time": "2019-01-28T00:49:16.165623Z"
    }
   },
   "outputs": [],
   "source": [
    "#-- printando o tipo das colunas\n"
   ]
  },
  {
   "cell_type": "code",
   "execution_count": null,
   "metadata": {
    "ExecuteTime": {
     "end_time": "2019-01-28T00:49:17.218724Z",
     "start_time": "2019-01-28T00:49:16.920974Z"
    }
   },
   "outputs": [],
   "source": [
    "#-- printando algumas métricas das colunas numéricas\n"
   ]
  },
  {
   "cell_type": "markdown",
   "metadata": {
    "ExecuteTime": {
     "end_time": "2019-01-26T12:51:12.705065Z",
     "start_time": "2019-01-26T12:51:12.700070Z"
    }
   },
   "source": [
    "## Trazendo as labels para o dataset principal"
   ]
  },
  {
   "cell_type": "code",
   "execution_count": null,
   "metadata": {},
   "outputs": [],
   "source": []
  },
  {
   "cell_type": "markdown",
   "metadata": {
    "ExecuteTime": {
     "end_time": "2019-01-26T12:56:09.094703Z",
     "start_time": "2019-01-26T12:56:09.089727Z"
    }
   },
   "source": [
    "## Gráficos com as features numéricas"
   ]
  },
  {
   "cell_type": "code",
   "execution_count": null,
   "metadata": {},
   "outputs": [],
   "source": []
  },
  {
   "cell_type": "markdown",
   "metadata": {},
   "source": [
    "## Preenchendo os missing values"
   ]
  },
  {
   "cell_type": "code",
   "execution_count": null,
   "metadata": {
    "ExecuteTime": {
     "end_time": "2019-01-28T00:50:01.739901Z",
     "start_time": "2019-01-28T00:50:01.005977Z"
    }
   },
   "outputs": [],
   "source": [
    "#-- preenchendo as features numéricas com missing value - usando a mediana para isso\n",
    "imputer = SimpleImputer(strategy='median')\n",
    "imputer = imputer.fit(db_dcol_drow.loc[:, columns_numeric])\n",
    "db_dcol_drow.loc[:, columns_numeric] = imputer.transform(db_dcol_drow.loc[:, columns_numeric])"
   ]
  },
  {
   "cell_type": "markdown",
   "metadata": {},
   "source": [
    "## Transformando as features categóricas em dummies"
   ]
  },
  {
   "cell_type": "code",
   "execution_count": null,
   "metadata": {},
   "outputs": [],
   "source": []
  },
  {
   "cell_type": "markdown",
   "metadata": {},
   "source": [
    "# Gerando os datasets para criação dos modelos"
   ]
  },
  {
   "cell_type": "code",
   "execution_count": null,
   "metadata": {
    "ExecuteTime": {
     "end_time": "2019-01-28T00:50:50.079623Z",
     "start_time": "2019-01-28T00:50:49.959584Z"
    }
   },
   "outputs": [],
   "source": [
    "#-- criando os dataset para análise\n"
   ]
  },
  {
   "cell_type": "markdown",
   "metadata": {},
   "source": [
    "## Modelo de Churn"
   ]
  },
  {
   "cell_type": "code",
   "execution_count": null,
   "metadata": {
    "ExecuteTime": {
     "end_time": "2019-01-28T00:52:55.828286Z",
     "start_time": "2019-01-28T00:52:42.082986Z"
    }
   },
   "outputs": [],
   "source": [
    "#-- criando o balanceamento\n"
   ]
  }
 ],
 "metadata": {
  "kernelspec": {
   "display_name": "Python 3",
   "language": "python",
   "name": "python3"
  },
  "language_info": {
   "codemirror_mode": {
    "name": "ipython",
    "version": 3
   },
   "file_extension": ".py",
   "mimetype": "text/x-python",
   "name": "python",
   "nbconvert_exporter": "python",
   "pygments_lexer": "ipython3",
   "version": "3.7.6"
  },
  "toc": {
   "base_numbering": 1,
   "nav_menu": {},
   "number_sections": true,
   "sideBar": true,
   "skip_h1_title": false,
   "title_cell": "Table of Contents",
   "title_sidebar": "Contents",
   "toc_cell": false,
   "toc_position": {
    "height": "calc(100% - 180px)",
    "left": "10px",
    "top": "150px",
    "width": "480px"
   },
   "toc_section_display": true,
   "toc_window_display": false
  },
  "varInspector": {
   "cols": {
    "lenName": 16,
    "lenType": 16,
    "lenVar": 40
   },
   "kernels_config": {
    "python": {
     "delete_cmd_postfix": "",
     "delete_cmd_prefix": "del ",
     "library": "var_list.py",
     "varRefreshCmd": "print(var_dic_list())"
    },
    "r": {
     "delete_cmd_postfix": ") ",
     "delete_cmd_prefix": "rm(",
     "library": "var_list.r",
     "varRefreshCmd": "cat(var_dic_list()) "
    }
   },
   "oldHeight": 845.203,
   "position": {
    "height": "867.188px",
    "left": "1545.33px",
    "right": "20px",
    "top": "120px",
    "width": "350px"
   },
   "types_to_exclude": [
    "module",
    "function",
    "builtin_function_or_method",
    "instance",
    "_Feature"
   ],
   "varInspector_section_display": "block",
   "window_display": false
  }
 },
 "nbformat": 4,
 "nbformat_minor": 4
}
